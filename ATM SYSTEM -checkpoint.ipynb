{
 "cells": [
  {
   "cell_type": "code",
   "execution_count": 4,
   "metadata": {},
   "outputs": [
    {
     "name": "stdout",
     "output_type": "stream",
     "text": [
      "Enter your pin:········\n",
      "Enter your balance:10000\n",
      "Do you want to withdraw cash yes/no:no\n",
      "Do you want to change the pin yes/no: no\n",
      "Do you want to deposit money yes/no: yes\n",
      "Enter the amount you want to deposit:20000\n",
      "New balance is = 30000\n"
     ]
    }
   ],
   "source": [
    "import getpass\n",
    "class ATM:\n",
    "    def input(self):\n",
    "        self.__pin=getpass.getpass(prompt=\"Enter your pin:\")\n",
    "        self.bal=int(input(\"Enter your balance:\"))\n",
    "    \n",
    "    def wd(self):\n",
    "        e=input(\"Do you want to withdraw cash yes/no:\")\n",
    "        e.islower()\n",
    "        if e==\"yes\":\n",
    "            self.amt=int(input(\"Enter the amount you want to withdraw:\"))\n",
    "            if self.bal<self.amt:\n",
    "                print(\"Not enough balance!!!\")\n",
    "            elif self.bal>=self.amt:\n",
    "                print(\"Transaction successfull\")\n",
    "                self.bal=self.bal-self.amt\n",
    "                print(\"New Balance =\",self.bal)\n",
    "        elif e==\"no\":\n",
    "            pass\n",
    "    \n",
    "    def pc(self):\n",
    "        z=input(\"Do you want to change the pin yes/no: \")\n",
    "        z.islower()\n",
    "        if z==\"yes\":\n",
    "            self.__pin1=getpass.getpass(prompt=\"Enter your new pin:\")\n",
    "            self.__pin=self.__pin1\n",
    "        if z==\"no\":\n",
    "            pass\n",
    "    \n",
    "    def depo(self):\n",
    "        w=input(\"Do you want to deposit money yes/no: \")\n",
    "        w.islower()\n",
    "        if w==\"yes\":\n",
    "            self.dep=int(input(\"Enter the amount you want to deposit:\"))\n",
    "            self.bal=self.bal+self.dep\n",
    "            print(\"New balance is =\",self.bal)\n",
    "        if w==\"no\":\n",
    "            pass\n",
    "        \n",
    "\n",
    "\n",
    "            \n",
    "q=ATM()\n",
    "q.input()\n",
    "q.wd()\n",
    "q.pc()\n",
    "q.depo()"
   ]
  },
  {
   "cell_type": "code",
   "execution_count": null,
   "metadata": {},
   "outputs": [],
   "source": []
  }
 ],
 "metadata": {
  "kernelspec": {
   "display_name": "Python 3",
   "language": "python",
   "name": "python3"
  },
  "language_info": {
   "codemirror_mode": {
    "name": "ipython",
    "version": 3
   },
   "file_extension": ".py",
   "mimetype": "text/x-python",
   "name": "python",
   "nbconvert_exporter": "python",
   "pygments_lexer": "ipython3",
   "version": "3.7.6"
  }
 },
 "nbformat": 4,
 "nbformat_minor": 4
}
